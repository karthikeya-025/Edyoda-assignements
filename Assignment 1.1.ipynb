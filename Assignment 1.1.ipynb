{
 "cells": [
  {
   "cell_type": "markdown",
   "id": "a7506bf2",
   "metadata": {},
   "source": [
    "# Data Types"
   ]
  },
  {
   "cell_type": "markdown",
   "id": "c736a8ac",
   "metadata": {},
   "source": [
    "## 1.Name four of the main data types in Python"
   ]
  },
  {
   "cell_type": "markdown",
   "id": "12e7fe85",
   "metadata": {},
   "source": [
    "### Numbers,Lists,Dictionaries,Sets,Tuples,Strings,Boolean,None are the Main data types in Python.\n",
    "### Again the numbers are further divided into floating point,integers,Complex numbers in Python"
   ]
  },
  {
   "cell_type": "markdown",
   "id": "5f31277d",
   "metadata": {},
   "source": [
    "## 2.Why are these data types known as Python’s core data types?"
   ]
  },
  {
   "cell_type": "markdown",
   "id": "ec7a9aae",
   "metadata": {},
   "source": [
    "### They are known as core data-types because the always the part of the python langauge itself and are always available to create other objects, you usually need to call functions in imported modules.\n",
    "### Most of these data-types have specific syntaxes to them like for example: A string should be enclosed in either \" \" or '  ' and where as to declare a list we need to specify the elements in between the []."
   ]
  },
  {
   "cell_type": "markdown",
   "id": "35e399bf",
   "metadata": {},
   "source": [
    "## 3.What are mutable and immutable data-types in python?"
   ]
  },
  {
   "cell_type": "markdown",
   "id": "509d5c6e",
   "metadata": {},
   "source": [
    "### Immutable data-types are a data type where we can not change the data or manipulate the data inside that data type.\n",
    "### Examples for immutable are : Tuples,Strings,Numbers.\n",
    "### mutable data types on other hand are completely opposite of immutable and the data present inside them can easily be manipulated.\n",
    "### Examples for mutable are : Lists,Sets,Dictionaries."
   ]
  },
  {
   "cell_type": "markdown",
   "id": "9802691f",
   "metadata": {},
   "source": [
    "## 4.What does sequence mean and which three types of data fall into this category?"
   ]
  },
  {
   "cell_type": "markdown",
   "id": "4ba84d72",
   "metadata": {},
   "source": [
    "### The term sequence means next to each other or continous or in a particular order.In python Strings,Tuples,Lists are only the sequence data-types.\n",
    "### The Sequences share common sequence operations, such as indexing, concatenation, and slicing, but also have type-specific method calls."
   ]
  },
  {
   "cell_type": "markdown",
   "id": "9c8f36d4",
   "metadata": {},
   "source": [
    "# Operators"
   ]
  },
  {
   "cell_type": "markdown",
   "id": "3e987155",
   "metadata": {},
   "source": [
    "## 5.What are the different types of operators in Python?"
   ]
  },
  {
   "cell_type": "markdown",
   "id": "84f13d53",
   "metadata": {},
   "source": [
    "### There are 7 diiferent types of operators in Python:\n",
    "#### 1.Arthematic Operators  :   +,-,*,/,//,%\n",
    "#### 2.Logical Operators : and,or,not\n",
    "#### 3.Comparision Operators : ==,>,<,<=,>=,!=\n",
    "#### 4.Assignement Operators : =\n",
    "#### 5.Bitwise Operators : &,|,^,~\n",
    "#### 6.Identity Operators : is\n",
    "#### 7.Membership Operators : in"
   ]
  },
  {
   "cell_type": "markdown",
   "id": "4dbc532c",
   "metadata": {},
   "source": [
    "## 6.What is the difference between arithmetic and logical operators?"
   ]
  },
  {
   "cell_type": "markdown",
   "id": "fc75487a",
   "metadata": {},
   "source": [
    "### Arthematic Operators are used to perform arthematic operations where as Logical operators are used to combine two Boolean values (True or False) to produce a new Boolean value."
   ]
  },
  {
   "cell_type": "markdown",
   "id": "4d71bee1",
   "metadata": {},
   "source": [
    "## 7.What is the difference between the assignment operator (=) and the equality operator (==)?"
   ]
  },
  {
   "cell_type": "markdown",
   "id": "164da42d",
   "metadata": {},
   "source": [
    "### ''='' is used to assign or reassign a value to variable where as '==' is used to check any two values are equal or not.Thats why '=' is an assignement operator and '==' is comparision operator"
   ]
  },
  {
   "cell_type": "markdown",
   "id": "9d28d76f",
   "metadata": {},
   "source": [
    "## 8.What are some common mistakes to avoid when using operators?"
   ]
  },
  {
   "cell_type": "markdown",
   "id": "5d906adc",
   "metadata": {},
   "source": [
    "### These are few common mistakes to be avoided:\n",
    "#### 1.Using the wrong operator.\n",
    "#### 2.Forgeting to use parenthesis.\n",
    "#### 3.Using an operator on an incompatible operand.\n",
    "#### 4.Dividing by zero.\n",
    "#### 5.Using too many operators in a single expression.\n",
    "#### 6.etc"
   ]
  },
  {
   "cell_type": "markdown",
   "id": "ef0f035d",
   "metadata": {},
   "source": [
    "# Conditional Statements"
   ]
  },
  {
   "cell_type": "markdown",
   "id": "0469a2bc",
   "metadata": {},
   "source": [
    "## 9.What are the different types of conditional statements in Python?"
   ]
  },
  {
   "cell_type": "markdown",
   "id": "4c47c70d",
   "metadata": {},
   "source": [
    "### The types of conditional statements in python are:\n",
    "#### 1.If\n",
    "#### 2.If-else\n",
    "#### 3.If-elif\n",
    "#### 4.nested if\n",
    "#### 5.nested if-else"
   ]
  },
  {
   "cell_type": "markdown",
   "id": "bb1bc5fe",
   "metadata": {},
   "source": [
    "## 10.How does the if statement work?"
   ]
  },
  {
   "cell_type": "markdown",
   "id": "065f5052",
   "metadata": {},
   "source": [
    "### The if statement checks for specified condition.If the condition is satisfied then it executes the code present inside the block of the if statement"
   ]
  },
  {
   "cell_type": "markdown",
   "id": "6932bb9d",
   "metadata": {},
   "source": [
    "## 11.How does the elif statement work?"
   ]
  },
  {
   "cell_type": "markdown",
   "id": "5fec3b3a",
   "metadata": {},
   "source": [
    "### Instead of using multiple if statements to check multiple condtions we can make use of elif statement.Its functionality is same as if statement."
   ]
  },
  {
   "cell_type": "markdown",
   "id": "f151f568",
   "metadata": {},
   "source": [
    "## 12.What is the difference between the if statement and the ternary operator?"
   ]
  },
  {
   "cell_type": "markdown",
   "id": "43876bef",
   "metadata": {},
   "source": [
    "### The if statement is a control flow statement that allows you to execute different code blocks depending on the value of a condition.\n",
    "### The ternary operator is a single expression that can be used to make a conditional decision.Below is the basic structure of ternary operator.\n",
    "#### condition ? true-value : false-value"
   ]
  },
  {
   "cell_type": "markdown",
   "id": "566f9ddb",
   "metadata": {},
   "source": [
    "# Looping Statements"
   ]
  },
  {
   "cell_type": "markdown",
   "id": "ff517876",
   "metadata": {},
   "source": [
    "## 13.What are the different types of looping statements in Python?"
   ]
  },
  {
   "cell_type": "markdown",
   "id": "7fd14016",
   "metadata": {},
   "source": [
    "### There are two types of looping statements in python:\n",
    "#### 1.For\n",
    "#### 2.While"
   ]
  },
  {
   "cell_type": "markdown",
   "id": "172db5ab",
   "metadata": {},
   "source": [
    "## 14.What are the advantages and disadvantages of using different looping statements?"
   ]
  },
  {
   "cell_type": "markdown",
   "id": "425488c6",
   "metadata": {},
   "source": [
    "### The advantages for a for loop are:\n",
    "#### 1.Readability : can be easy to read.\n",
    "#### 2.Conciseness: For loops can be used to write more concise code than other types of looping statements, such as while loops.\n",
    "#### 3.Efficiency:For loops are efficient when iterating through large data.\n",
    "### The disadvantages for a for loop are:\n",
    "#### 1.Lack of Flexibility: For Loops aren't that  flexible.\n",
    "### The advantages for a While loop are:\n",
    "#### 1.Flexibility: While loops are more flexible than other types of looping statements, such as for loops. While loops can be used to repeat a block of code until a certain condition is met, or to iterate over a sequence of elements that is not known in advance.\n",
    "### The disadvantages for a While loop are:\n",
    "#### 1.Readability:While loops are more difficult to read.\n",
    "#### 2.Efficiency:While loops aren't that efficient when compared to for loops."
   ]
  },
  {
   "cell_type": "markdown",
   "id": "05d4126a",
   "metadata": {},
   "source": [
    "## 15.How do you break out of a loop early?"
   ]
  },
  {
   "cell_type": "markdown",
   "id": "0ea25c30",
   "metadata": {},
   "source": [
    "### By using a keyword called \"break\" which will break out of the loop. This can be used with a conditional statement to exit out of the loop if the condition is satisfied."
   ]
  },
  {
   "cell_type": "markdown",
   "id": "d9a23950",
   "metadata": {},
   "source": [
    "## 16.How does the while loop work?"
   ]
  },
  {
   "cell_type": "markdown",
   "id": "4126483a",
   "metadata": {},
   "source": [
    "### A while loop will keep on iterating the block of code until and unless the sepcified condition is True or an early block statement is used\n",
    "#### Basic syntax for while loop is ------ while True : {Block of code}"
   ]
  },
  {
   "cell_type": "markdown",
   "id": "999ff216",
   "metadata": {},
   "source": [
    "# Functions"
   ]
  },
  {
   "cell_type": "markdown",
   "id": "8c4bce84",
   "metadata": {},
   "source": [
    "## 17.What is a function?"
   ]
  },
  {
   "cell_type": "markdown",
   "id": "fec823d0",
   "metadata": {},
   "source": [
    "### A function is a block of code which only runs when it is called.Can be reused mutiple times.We can also pass data into it while calling it.As a result function will return data."
   ]
  },
  {
   "cell_type": "markdown",
   "id": "de6dd49b",
   "metadata": {},
   "source": [
    "## 18.How do you define a function?"
   ]
  },
  {
   "cell_type": "markdown",
   "id": "1dd03618",
   "metadata": {},
   "source": [
    "### A function is defined using the 'def' keyword.Below is the basic syntax:\n",
    "#### def {function_name}():{block of code}"
   ]
  },
  {
   "cell_type": "markdown",
   "id": "8b25fe60",
   "metadata": {},
   "source": [
    "## 19.How do you call a function?"
   ]
  },
  {
   "cell_type": "markdown",
   "id": "ebd31b85",
   "metadata": {},
   "source": [
    "### You can simply call a function by specifying the function's name and adding () brackets next to it.Also pass the parameters with in the brackets if required.Below is an example for function call:\n",
    "#### {function_name}(pass parameters or kewword arguements here)"
   ]
  },
  {
   "cell_type": "markdown",
   "id": "13f9e412",
   "metadata": {},
   "source": [
    "## 20.How do you pass arguments to a function?"
   ]
  },
  {
   "cell_type": "markdown",
   "id": "7c5ed350",
   "metadata": {},
   "source": [
    "### You can pass the arguments into a function while mentioning them in the paranthesis() during the function call.Below is the basic syntax:\n",
    "#### sample_function({pass the arguments here})"
   ]
  },
  {
   "cell_type": "markdown",
   "id": "7756dd63",
   "metadata": {},
   "source": [
    "## 21.How do you return values from a function?"
   ]
  },
  {
   "cell_type": "markdown",
   "id": "cfc9db7b",
   "metadata": {},
   "source": [
    "### By mentioning the return keyword at the end of block of code inside a function. You can also pait this return keyword with a piece of data which sends data when the function is called.\n",
    "### Note that anything which comes after the return statement will be ignored by the python interpreter as return statement also marks as the end of the block of code inside a function."
   ]
  },
  {
   "cell_type": "markdown",
   "id": "7a3c6b65",
   "metadata": {},
   "source": [
    "## 22.What is the difference between a function and a method?"
   ]
  },
  {
   "cell_type": "markdown",
   "id": "c761adcf",
   "metadata": {},
   "source": [
    "### 1.A function in Python is a block of code that can be reused throughout your program. Functions can take arguments and return values.\n",
    "### 2.A method is a function that is associated with a class. Methods are used to perform operations on objects."
   ]
  },
  {
   "cell_type": "code",
   "execution_count": null,
   "id": "8c18c495",
   "metadata": {},
   "outputs": [],
   "source": []
  }
 ],
 "metadata": {
  "kernelspec": {
   "display_name": "Python 3 (ipykernel)",
   "language": "python",
   "name": "python3"
  },
  "language_info": {
   "codemirror_mode": {
    "name": "ipython",
    "version": 3
   },
   "file_extension": ".py",
   "mimetype": "text/x-python",
   "name": "python",
   "nbconvert_exporter": "python",
   "pygments_lexer": "ipython3",
   "version": "3.10.9"
  }
 },
 "nbformat": 4,
 "nbformat_minor": 5
}
